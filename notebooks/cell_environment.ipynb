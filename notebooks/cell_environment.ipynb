{
 "nbformat": 4,
 "nbformat_minor": 2,
 "metadata": {
  "language_info": {
   "name": "python",
   "codemirror_mode": {
    "name": "ipython",
    "version": 3
   }
  },
  "orig_nbformat": 2,
  "file_extension": ".py",
  "mimetype": "text/x-python",
  "name": "python",
  "npconvert_exporter": "python",
  "pygments_lexer": "ipython3",
  "version": 3
 },
 "cells": [
  {
   "cell_type": "code",
   "execution_count": null,
   "metadata": {},
   "outputs": [],
   "source": [
    "# Import library\n",
    "from rnaloc import cell_environment"
   ]
  },
  {
   "cell_type": "code",
   "execution_count": null,
   "metadata": {},
   "outputs": [],
   "source": [
    "# Analyze your data: specify folder containing the data to be analyzed\n",
    "cell_environment.process_folder(path_scan =  Path(\"PathToYOurData\"), \n",
    "                                region_label = 'Cells', # Label of annotated regions \n",
    "                                bin_prop = (0, 300, 50), # Bins of histogram (min, max, number of bins),\n",
    "                                annotation_file = 'annotation.json', # Name of the annotation file\n",
    "                                callback_log = None,  # Callback function for log\n",
    "                                callback_status = None, # Callback function for status\n",
    "                                callback_progress = None) # Callback function for progress"
   ]
  }
 ]
}